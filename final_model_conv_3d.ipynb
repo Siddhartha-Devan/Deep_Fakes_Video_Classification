{
 "cells": [
  {
   "cell_type": "code",
   "execution_count": 3,
   "id": "72685024-e9ab-4965-89fb-c348d7fc1793",
   "metadata": {},
   "outputs": [],
   "source": [
    "import cv2\n",
    "import os, glob\n",
    "import mediapipe as mp\n",
    "import pandas as pd\n",
    "import numpy as np\n",
    "import matplotlib.pyplot as plt\n",
    "import tensorflow as tf\n",
    "import tensorflow.keras as keras\n",
    "import random"
   ]
  },
  {
   "cell_type": "code",
   "execution_count": 4,
   "id": "7bae3e26-3b93-4b24-a4e7-7fa0e00cd257",
   "metadata": {},
   "outputs": [],
   "source": [
    "from keras.preprocessing.image import ImageDataGenerator\n",
    "from tensorflow.keras.models import Sequential\n",
    "from tensorflow.keras import layers\n",
    "from tensorflow.keras.layers import Conv2D, MaxPooling2D, Flatten, Dense, ConvLSTM2D, Dropout, LSTM, Rescaling\n",
    "from tensorflow.keras.layers import Conv3D, MaxPooling3D, Flatten, Dense, Dropout, Rescaling\n"
   ]
  },
  {
   "cell_type": "code",
   "execution_count": null,
   "id": "5403e162-4792-4bfd-a939-dec1c9254afe",
   "metadata": {},
   "outputs": [],
   "source": []
  },
  {
   "cell_type": "code",
   "execution_count": null,
   "id": "b53d73e5-64cc-4675-b6db-3cf6ad9d720c",
   "metadata": {},
   "outputs": [],
   "source": []
  },
  {
   "cell_type": "code",
   "execution_count": null,
   "id": "1b81d634-6386-4f2a-9578-96a490717ff0",
   "metadata": {},
   "outputs": [],
   "source": []
  },
  {
   "cell_type": "code",
   "execution_count": null,
   "id": "8a43448f-0925-4245-8ec5-ec4b4fbcedc4",
   "metadata": {},
   "outputs": [],
   "source": []
  },
  {
   "cell_type": "code",
   "execution_count": null,
   "id": "3cdf1924-a898-4c45-a116-ebb21415edec",
   "metadata": {},
   "outputs": [],
   "source": []
  },
  {
   "cell_type": "code",
   "execution_count": 22,
   "id": "2e78959d-9b92-4d75-8c0b-0600906642c9",
   "metadata": {},
   "outputs": [],
   "source": [
    "X = np.load('X_train_298.npy')"
   ]
  },
  {
   "cell_type": "code",
   "execution_count": 23,
   "id": "48cb7b3e-1b7c-4417-b3fa-7dd6b20eb354",
   "metadata": {},
   "outputs": [],
   "source": [
    "Y = np.load('Y_train_298.npy')"
   ]
  },
  {
   "cell_type": "code",
   "execution_count": 24,
   "id": "3a4d96a8-59f7-4917-9b2d-101de0351e15",
   "metadata": {
    "scrolled": true
   },
   "outputs": [
    {
     "name": "stdout",
     "output_type": "stream",
     "text": [
      "Model: \"sequential_1\"\n",
      "_________________________________________________________________\n",
      " Layer (type)                Output Shape              Param #   \n",
      "=================================================================\n",
      " rescaling_1 (Rescaling)     (None, 10, 80, 80, 3)     0         \n",
      "                                                                 \n",
      " conv3d_3 (Conv3D)           (None, 9, 79, 79, 32)     800       \n",
      "                                                                 \n",
      " max_pooling3d_3 (MaxPooling  (None, 9, 39, 39, 32)    0         \n",
      " 3D)                                                             \n",
      "                                                                 \n",
      " conv3d_4 (Conv3D)           (None, 7, 37, 37, 64)     55360     \n",
      "                                                                 \n",
      " max_pooling3d_4 (MaxPooling  (None, 7, 18, 18, 64)    0         \n",
      " 3D)                                                             \n",
      "                                                                 \n",
      " conv3d_5 (Conv3D)           (None, 5, 16, 16, 128)    221312    \n",
      "                                                                 \n",
      " max_pooling3d_5 (MaxPooling  (None, 2, 8, 8, 128)     0         \n",
      " 3D)                                                             \n",
      "                                                                 \n",
      " flatten_1 (Flatten)         (None, 16384)             0         \n",
      "                                                                 \n",
      " dense_2 (Dense)             (None, 256)               4194560   \n",
      "                                                                 \n",
      " dropout_1 (Dropout)         (None, 256)               0         \n",
      "                                                                 \n",
      " dense_3 (Dense)             (None, 2)                 514       \n",
      "                                                                 \n",
      "=================================================================\n",
      "Total params: 4,472,546\n",
      "Trainable params: 4,472,546\n",
      "Non-trainable params: 0\n",
      "_________________________________________________________________\n"
     ]
    }
   ],
   "source": [
    "input_shape = (10, 80, 80, 3) \n",
    "# Define the number of classes\n",
    "num_classes = 2  # Example number of classes\n",
    "\n",
    "# Create the Sequential model\n",
    "model = Sequential()\n",
    "model.add(Rescaling(scale=1./255, input_shape=input_shape))\n",
    "# Add Conv3D layers\n",
    "model.add(Conv3D(32, kernel_size=(2, 2, 2), activation='relu'))\n",
    "model.add(MaxPooling3D(pool_size=(1, 2, 2)))\n",
    "model.add(Conv3D(64, kernel_size=(3, 3, 3), activation='relu'))\n",
    "model.add(MaxPooling3D(pool_size=(1, 2, 2)))\n",
    "model.add(Conv3D(128, kernel_size=(3, 3, 3), activation='relu'))\n",
    "model.add(MaxPooling3D(pool_size=(2, 2, 2)))\n",
    "\n",
    "# Flatten the output of the convolutional layers\n",
    "model.add(Flatten())\n",
    "\n",
    "# Add fully connected layers\n",
    "model.add(Dense(256, activation='relu'))\n",
    "model.add(Dropout(0.5))\n",
    "model.add(Dense(num_classes, activation='softmax'))\n",
    "\n",
    "# Print model summary\n",
    "model.summary()"
   ]
  },
  {
   "cell_type": "code",
   "execution_count": null,
   "id": "fef09e98-590e-42d4-be94-d220818d39b0",
   "metadata": {},
   "outputs": [],
   "source": []
  },
  {
   "cell_type": "code",
   "execution_count": 26,
   "id": "30922eb2-2bb8-4d01-bbe0-ac24494447fd",
   "metadata": {},
   "outputs": [],
   "source": [
    "model.compile(optimizer='adam', loss='sparse_categorical_crossentropy', metrics=['accuracy'])"
   ]
  },
  {
   "cell_type": "code",
   "execution_count": 27,
   "id": "90738e81-c46a-419f-b390-72dd7cdc8be0",
   "metadata": {
    "scrolled": true
   },
   "outputs": [
    {
     "name": "stdout",
     "output_type": "stream",
     "text": [
      "Epoch 1/60\n",
      "148/148 [==============================] - 3s 16ms/step - loss: 0.7047 - accuracy: 0.5507\n",
      "Epoch 2/60\n",
      "148/148 [==============================] - 2s 15ms/step - loss: 0.7246 - accuracy: 0.4764\n",
      "Epoch 3/60\n",
      "148/148 [==============================] - 2s 15ms/step - loss: 0.7193 - accuracy: 0.5304\n",
      "Epoch 4/60\n",
      "148/148 [==============================] - 2s 15ms/step - loss: 0.6920 - accuracy: 0.5473\n",
      "Epoch 5/60\n",
      "148/148 [==============================] - 2s 15ms/step - loss: 0.6755 - accuracy: 0.5000\n",
      "Epoch 6/60\n",
      "148/148 [==============================] - 2s 15ms/step - loss: 0.7137 - accuracy: 0.5000\n",
      "Epoch 7/60\n",
      "148/148 [==============================] - 2s 15ms/step - loss: 0.7079 - accuracy: 0.5574\n",
      "Epoch 8/60\n",
      "148/148 [==============================] - 2s 15ms/step - loss: 0.6965 - accuracy: 0.4932\n",
      "Epoch 9/60\n",
      "148/148 [==============================] - 2s 15ms/step - loss: 0.6861 - accuracy: 0.5034\n",
      "Epoch 10/60\n",
      "148/148 [==============================] - 2s 15ms/step - loss: 0.7046 - accuracy: 0.5372\n",
      "Epoch 11/60\n",
      "148/148 [==============================] - 2s 15ms/step - loss: 0.6743 - accuracy: 0.5169\n",
      "Epoch 12/60\n",
      "148/148 [==============================] - 2s 15ms/step - loss: 0.6788 - accuracy: 0.5338\n",
      "Epoch 13/60\n",
      "148/148 [==============================] - 2s 15ms/step - loss: 0.6851 - accuracy: 0.5507\n",
      "Epoch 14/60\n",
      "148/148 [==============================] - 2s 15ms/step - loss: 0.7207 - accuracy: 0.5709\n",
      "Epoch 15/60\n",
      "148/148 [==============================] - 2s 15ms/step - loss: 0.6848 - accuracy: 0.5000\n",
      "Epoch 16/60\n",
      "148/148 [==============================] - 2s 15ms/step - loss: 0.6804 - accuracy: 0.5338\n",
      "Epoch 17/60\n",
      "148/148 [==============================] - 2s 15ms/step - loss: 0.6738 - accuracy: 0.5608\n",
      "Epoch 18/60\n",
      "148/148 [==============================] - 2s 15ms/step - loss: 0.6699 - accuracy: 0.5473\n",
      "Epoch 19/60\n",
      "148/148 [==============================] - 2s 15ms/step - loss: 0.6496 - accuracy: 0.5946\n",
      "Epoch 20/60\n",
      "148/148 [==============================] - 2s 15ms/step - loss: 0.6614 - accuracy: 0.5541\n",
      "Epoch 21/60\n",
      "148/148 [==============================] - 2s 15ms/step - loss: 0.6587 - accuracy: 0.5878\n",
      "Epoch 22/60\n",
      "148/148 [==============================] - 2s 16ms/step - loss: 0.6127 - accuracy: 0.6318\n",
      "Epoch 23/60\n",
      "148/148 [==============================] - 2s 16ms/step - loss: 0.6291 - accuracy: 0.6115\n",
      "Epoch 24/60\n",
      "148/148 [==============================] - 2s 16ms/step - loss: 0.7213 - accuracy: 0.6351\n",
      "Epoch 25/60\n",
      "148/148 [==============================] - 2s 16ms/step - loss: 0.6297 - accuracy: 0.6824\n",
      "Epoch 26/60\n",
      "148/148 [==============================] - 2s 15ms/step - loss: 0.5886 - accuracy: 0.6858\n",
      "Epoch 27/60\n",
      "148/148 [==============================] - 2s 16ms/step - loss: 0.5505 - accuracy: 0.7027\n",
      "Epoch 28/60\n",
      "148/148 [==============================] - 2s 16ms/step - loss: 0.5214 - accuracy: 0.7230\n",
      "Epoch 29/60\n",
      "148/148 [==============================] - 2s 16ms/step - loss: 0.5218 - accuracy: 0.7264\n",
      "Epoch 30/60\n",
      "148/148 [==============================] - 2s 16ms/step - loss: 0.4864 - accuracy: 0.7264\n",
      "Epoch 31/60\n",
      "148/148 [==============================] - 2s 16ms/step - loss: 0.4609 - accuracy: 0.7838\n",
      "Epoch 32/60\n",
      "148/148 [==============================] - 2s 16ms/step - loss: 0.7544 - accuracy: 0.7905\n",
      "Epoch 33/60\n",
      "148/148 [==============================] - 2s 15ms/step - loss: 0.4606 - accuracy: 0.7568\n",
      "Epoch 34/60\n",
      "148/148 [==============================] - 2s 15ms/step - loss: 0.4506 - accuracy: 0.7804\n",
      "Epoch 35/60\n",
      "148/148 [==============================] - 2s 16ms/step - loss: 0.3688 - accuracy: 0.8041\n",
      "Epoch 36/60\n",
      "148/148 [==============================] - 2s 16ms/step - loss: 0.3769 - accuracy: 0.8209\n",
      "Epoch 37/60\n",
      "148/148 [==============================] - 2s 16ms/step - loss: 0.4600 - accuracy: 0.8041\n",
      "Epoch 38/60\n",
      "148/148 [==============================] - 2s 16ms/step - loss: 0.3955 - accuracy: 0.8074\n",
      "Epoch 39/60\n",
      "148/148 [==============================] - 2s 16ms/step - loss: 0.3290 - accuracy: 0.8243\n",
      "Epoch 40/60\n",
      "148/148 [==============================] - 2s 16ms/step - loss: 0.2962 - accuracy: 0.8480\n",
      "Epoch 41/60\n",
      "148/148 [==============================] - 2s 16ms/step - loss: 0.3259 - accuracy: 0.8277\n",
      "Epoch 42/60\n",
      "148/148 [==============================] - 2s 16ms/step - loss: 0.2706 - accuracy: 0.8547\n",
      "Epoch 43/60\n",
      "148/148 [==============================] - 2s 16ms/step - loss: 0.2657 - accuracy: 0.8649\n",
      "Epoch 44/60\n",
      "148/148 [==============================] - 2s 16ms/step - loss: 0.2478 - accuracy: 0.8750\n",
      "Epoch 45/60\n",
      "148/148 [==============================] - 2s 16ms/step - loss: 0.2372 - accuracy: 0.8885\n",
      "Epoch 46/60\n",
      "148/148 [==============================] - 2s 16ms/step - loss: 0.2448 - accuracy: 0.8919\n",
      "Epoch 47/60\n",
      "148/148 [==============================] - 2s 16ms/step - loss: 0.2361 - accuracy: 0.8919\n",
      "Epoch 48/60\n",
      "148/148 [==============================] - 2s 16ms/step - loss: 0.1916 - accuracy: 0.9223\n",
      "Epoch 49/60\n",
      "148/148 [==============================] - 2s 16ms/step - loss: 0.2160 - accuracy: 0.8986\n",
      "Epoch 50/60\n",
      "148/148 [==============================] - 2s 16ms/step - loss: 0.2479 - accuracy: 0.9122\n",
      "Epoch 51/60\n",
      "148/148 [==============================] - 2s 16ms/step - loss: 0.1751 - accuracy: 0.9054\n",
      "Epoch 52/60\n",
      "148/148 [==============================] - 2s 16ms/step - loss: 0.1452 - accuracy: 0.9324\n",
      "Epoch 53/60\n",
      "148/148 [==============================] - 2s 16ms/step - loss: 0.1232 - accuracy: 0.9426\n",
      "Epoch 54/60\n",
      "148/148 [==============================] - 2s 16ms/step - loss: 0.1087 - accuracy: 0.9527\n",
      "Epoch 55/60\n",
      "148/148 [==============================] - 2s 16ms/step - loss: 0.2117 - accuracy: 0.9291\n",
      "Epoch 56/60\n",
      "148/148 [==============================] - 2s 16ms/step - loss: 0.1865 - accuracy: 0.9088\n",
      "Epoch 57/60\n",
      "148/148 [==============================] - 2s 16ms/step - loss: 0.1523 - accuracy: 0.9595\n",
      "Epoch 58/60\n",
      "148/148 [==============================] - 2s 15ms/step - loss: 0.0623 - accuracy: 0.9831\n",
      "Epoch 59/60\n",
      "148/148 [==============================] - 2s 15ms/step - loss: 0.1248 - accuracy: 0.9595\n",
      "Epoch 60/60\n",
      "148/148 [==============================] - 2s 16ms/step - loss: 0.0780 - accuracy: 0.9561\n"
     ]
    }
   ],
   "source": [
    "history = model.fit(X, Y, batch_size=2, epochs=60)"
   ]
  },
  {
   "cell_type": "code",
   "execution_count": null,
   "id": "41e9894d-56af-457e-bd48-d984f81b7bc3",
   "metadata": {
    "scrolled": true
   },
   "outputs": [],
   "source": []
  },
  {
   "cell_type": "code",
   "execution_count": null,
   "id": "321e6cce-7e86-42f4-b914-0b7a8c22de96",
   "metadata": {
    "scrolled": true
   },
   "outputs": [],
   "source": []
  },
  {
   "cell_type": "code",
   "execution_count": null,
   "id": "86bcb2c4-a19c-435f-8c75-8e431afa593b",
   "metadata": {},
   "outputs": [],
   "source": [
    "# model.save('final_model_conv_3d')"
   ]
  },
  {
   "cell_type": "code",
   "execution_count": 28,
   "id": "8ff587fb-2102-48c4-96df-21da6b88de66",
   "metadata": {
    "scrolled": true
   },
   "outputs": [
    {
     "data": {
      "image/png": "[encoded data removed]",
      "text/plain": [
       "<Figure size 640x480 with 1 Axes>"
      ]
     },
     "metadata": {},
     "output_type": "display_data"
    }
   ],
   "source": [
    "\n",
    "def plot_accuracy(history):\n",
    "    # Extracting accuracy and loss values from history\n",
    "    accuracy = history.history['accuracy']\n",
    "    epochs = range(1, len(accuracy) + 1)\n",
    "\n",
    "    # Plotting accuracy vs epochs\n",
    "    plt.plot(epochs, accuracy, 'b', label='Training accuracy')\n",
    "    plt.title('Training accuracy')\n",
    "    plt.xlabel('Epochs')\n",
    "    plt.ylabel('Accuracy')\n",
    "    plt.legend()\n",
    "    # plt.savefig('accuracy.jpg')\n",
    "    plt.show()\n",
    "\n",
    "plot_accuracy(history)\n"
   ]
  },
  {
   "cell_type": "code",
   "execution_count": 29,
   "id": "939bf717-08e1-4e52-9abf-d81d5ef09087",
   "metadata": {},
   "outputs": [
    {
     "data": {
      "image/png": "[encoded data removed]",
      "text/plain": [
       "<Figure size 640x480 with 1 Axes>"
      ]
     },
     "metadata": {},
     "output_type": "display_data"
    }
   ],
   "source": [
    "\n",
    "def plot_loss(history):\n",
    "    # Extracting loss values from history\n",
    "    loss = history.history['loss']\n",
    "    epochs = range(1, len(loss) + 1)\n",
    "\n",
    "    # Plotting loss vs epochs\n",
    "    plt.plot(epochs, loss, 'r', label='Training loss')\n",
    "    plt.title('Training loss')\n",
    "    plt.xlabel('Epochs')\n",
    "    plt.ylabel('Loss')\n",
    "    plt.legend()\n",
    "    # plt.savefig('loss.jpg')\n",
    "    plt.show()\n",
    "\n",
    "\n",
    "plot_loss(history)"
   ]
  },
  {
   "cell_type": "code",
   "execution_count": 30,
   "id": "8a8de497-51c4-484a-a352-6c04a17711cb",
   "metadata": {},
   "outputs": [],
   "source": [
    "X_test = np.load('X_test.npy')"
   ]
  },
  {
   "cell_type": "code",
   "execution_count": 31,
   "id": "46a93e98-249b-4abb-8ee3-c8f1f3fad88d",
   "metadata": {},
   "outputs": [],
   "source": [
    "Y_test = np.load('Y_test.npy')"
   ]
  },
  {
   "cell_type": "code",
   "execution_count": 37,
   "id": "bae20dbb-90d7-4d17-b824-952782fdf380",
   "metadata": {},
   "outputs": [],
   "source": [
    "model = tf.keras.models.load_model('final_model_conv_3d')"
   ]
  },
  {
   "cell_type": "code",
   "execution_count": 38,
   "id": "045a72ce-160b-4873-abea-ec04f6b43861",
   "metadata": {},
   "outputs": [
    {
     "name": "stdout",
     "output_type": "stream",
     "text": [
      "4/4 [==============================] - 1s 43ms/step - loss: 0.1184 - accuracy: 0.9500\n"
     ]
    },
    {
     "data": {
      "text/plain": [
       "[0.11841201037168503, 0.949999988079071]"
      ]
     },
     "execution_count": 38,
     "metadata": {},
     "output_type": "execute_result"
    }
   ],
   "source": [
    "model.evaluate(X_test, Y_test)"
   ]
  },
  {
   "cell_type": "code",
   "execution_count": 39,
   "id": "fcdd23cb-2509-445f-93ae-8be6ea2aa73a",
   "metadata": {},
   "outputs": [
    {
     "name": "stdout",
     "output_type": "stream",
     "text": [
      "4/4 [==============================] - 0s 50ms/step\n"
     ]
    }
   ],
   "source": [
    "Y_pred = model.predict(X_test)"
   ]
  },
  {
   "cell_type": "code",
   "execution_count": 40,
   "id": "7afac364-64e6-40d6-913d-86d4a477c74d",
   "metadata": {},
   "outputs": [],
   "source": [
    "Y_lab = [np.argmax(i) for i in Y_pred]"
   ]
  },
  {
   "cell_type": "code",
   "execution_count": 41,
   "id": "1e05572c-cf79-49fe-bce2-04d21da69cf7",
   "metadata": {},
   "outputs": [],
   "source": [
    "from sklearn.metrics import classification_report\n",
    "\n",
    "report = classification_report(Y_test, Y_lab)"
   ]
  },
  {
   "cell_type": "code",
   "execution_count": 42,
   "id": "71cbc2f2-b7c0-4d7e-8d20-f43d00aace57",
   "metadata": {
    "scrolled": true
   },
   "outputs": [
    {
     "name": "stdout",
     "output_type": "stream",
     "text": [
      "              precision    recall  f1-score   support\n",
      "\n",
      "           0       0.91      1.00      0.95        50\n",
      "           1       1.00      0.90      0.95        50\n",
      "\n",
      "    accuracy                           0.95       100\n",
      "   macro avg       0.95      0.95      0.95       100\n",
      "weighted avg       0.95      0.95      0.95       100\n",
      "\n"
     ]
    }
   ],
   "source": [
    "print(report)"
   ]
  },
  {
   "cell_type": "code",
   "execution_count": null,
   "id": "4249a4b5-79fb-4fe9-8514-5409c6a4146f",
   "metadata": {},
   "outputs": [],
   "source": []
  },
  {
   "cell_type": "code",
   "execution_count": null,
   "id": "2633ff7b-109e-4dd6-9c26-b2f661a336bd",
   "metadata": {},
   "outputs": [],
   "source": []
  },
  {
   "cell_type": "code",
   "execution_count": null,
   "id": "a2f3c132-4abe-4877-bf6d-17758f876385",
   "metadata": {},
   "outputs": [],
   "source": []
  },
  {
   "cell_type": "code",
   "execution_count": null,
   "id": "e48199cf-753b-4eeb-8557-ba37f1fb3642",
   "metadata": {},
   "outputs": [],
   "source": []
  },
  {
   "cell_type": "code",
   "execution_count": null,
   "id": "63325a35-0aed-4730-ac41-f1b9167815a7",
   "metadata": {},
   "outputs": [],
   "source": []
  },
  {
   "cell_type": "code",
   "execution_count": 5,
   "id": "0365298d-7dab-4a04-a659-bb4036060c3b",
   "metadata": {},
   "outputs": [],
   "source": [
    "model_t =   tf.keras.models.load_model('final_model_conv_3d')"
   ]
  },
  {
   "cell_type": "code",
   "execution_count": 11,
   "id": "e6812413-6b54-4c78-a330-986e9e71e32e",
   "metadata": {},
   "outputs": [
    {
     "ename": "AttributeError",
     "evalue": "module 'pydot' has no attribute 'InvocationException'",
     "output_type": "error",
     "traceback": [
      "\u001b[1;31m---------------------------------------------------------------------------\u001b[0m",
      "\u001b[1;31mFileNotFoundError\u001b[0m                         Traceback (most recent call last)",
      "File \u001b[1;32m~\\anaconda3\\envs\\py310\\lib\\site-packages\\pydot\\core.py:1753\u001b[0m, in \u001b[0;36mDot.create\u001b[1;34m(self, prog, format, encoding)\u001b[0m\n\u001b[0;32m   1752\u001b[0m \u001b[38;5;28;01mtry\u001b[39;00m:\n\u001b[1;32m-> 1753\u001b[0m     stdout_data, stderr_data, process \u001b[38;5;241m=\u001b[39m \u001b[43mcall_graphviz\u001b[49m\u001b[43m(\u001b[49m\n\u001b[0;32m   1754\u001b[0m \u001b[43m        \u001b[49m\u001b[43mprogram\u001b[49m\u001b[38;5;241;43m=\u001b[39;49m\u001b[43mprog\u001b[49m\u001b[43m,\u001b[49m\n\u001b[0;32m   1755\u001b[0m \u001b[43m        \u001b[49m\u001b[43marguments\u001b[49m\u001b[38;5;241;43m=\u001b[39;49m\u001b[43marguments\u001b[49m\u001b[43m,\u001b[49m\n\u001b[0;32m   1756\u001b[0m \u001b[43m        \u001b[49m\u001b[43mworking_dir\u001b[49m\u001b[38;5;241;43m=\u001b[39;49m\u001b[43mtmp_dir\u001b[49m\u001b[43m,\u001b[49m\n\u001b[0;32m   1757\u001b[0m \u001b[43m    \u001b[49m\u001b[43m)\u001b[49m\n\u001b[0;32m   1758\u001b[0m \u001b[38;5;28;01mexcept\u001b[39;00m \u001b[38;5;167;01mOSError\u001b[39;00m \u001b[38;5;28;01mas\u001b[39;00m e:\n",
      "File \u001b[1;32m~\\anaconda3\\envs\\py310\\lib\\site-packages\\pydot\\core.py:133\u001b[0m, in \u001b[0;36mcall_graphviz\u001b[1;34m(program, arguments, working_dir, **kwargs)\u001b[0m\n\u001b[0;32m    131\u001b[0m program_with_args \u001b[38;5;241m=\u001b[39m [program] \u001b[38;5;241m+\u001b[39m arguments\n\u001b[1;32m--> 133\u001b[0m process \u001b[38;5;241m=\u001b[39m subprocess\u001b[38;5;241m.\u001b[39mPopen(\n\u001b[0;32m    134\u001b[0m     program_with_args,\n\u001b[0;32m    135\u001b[0m     env\u001b[38;5;241m=\u001b[39menv,\n\u001b[0;32m    136\u001b[0m     cwd\u001b[38;5;241m=\u001b[39mworking_dir,\n\u001b[0;32m    137\u001b[0m     shell\u001b[38;5;241m=\u001b[39m\u001b[38;5;28;01mFalse\u001b[39;00m,\n\u001b[0;32m    138\u001b[0m     stderr\u001b[38;5;241m=\u001b[39msubprocess\u001b[38;5;241m.\u001b[39mPIPE,\n\u001b[0;32m    139\u001b[0m     stdout\u001b[38;5;241m=\u001b[39msubprocess\u001b[38;5;241m.\u001b[39mPIPE,\n\u001b[0;32m    140\u001b[0m     \u001b[38;5;241m*\u001b[39m\u001b[38;5;241m*\u001b[39mkwargs,\n\u001b[0;32m    141\u001b[0m )\n\u001b[0;32m    142\u001b[0m stdout_data, stderr_data \u001b[38;5;241m=\u001b[39m process\u001b[38;5;241m.\u001b[39mcommunicate()\n",
      "File \u001b[1;32m~\\anaconda3\\envs\\py310\\lib\\subprocess.py:971\u001b[0m, in \u001b[0;36mPopen.__init__\u001b[1;34m(self, args, bufsize, executable, stdin, stdout, stderr, preexec_fn, close_fds, shell, cwd, env, universal_newlines, startupinfo, creationflags, restore_signals, start_new_session, pass_fds, user, group, extra_groups, encoding, errors, text, umask, pipesize)\u001b[0m\n\u001b[0;32m    968\u001b[0m             \u001b[38;5;28mself\u001b[39m\u001b[38;5;241m.\u001b[39mstderr \u001b[38;5;241m=\u001b[39m io\u001b[38;5;241m.\u001b[39mTextIOWrapper(\u001b[38;5;28mself\u001b[39m\u001b[38;5;241m.\u001b[39mstderr,\n\u001b[0;32m    969\u001b[0m                     encoding\u001b[38;5;241m=\u001b[39mencoding, errors\u001b[38;5;241m=\u001b[39merrors)\n\u001b[1;32m--> 971\u001b[0m     \u001b[38;5;28;43mself\u001b[39;49m\u001b[38;5;241;43m.\u001b[39;49m\u001b[43m_execute_child\u001b[49m\u001b[43m(\u001b[49m\u001b[43margs\u001b[49m\u001b[43m,\u001b[49m\u001b[43m \u001b[49m\u001b[43mexecutable\u001b[49m\u001b[43m,\u001b[49m\u001b[43m \u001b[49m\u001b[43mpreexec_fn\u001b[49m\u001b[43m,\u001b[49m\u001b[43m \u001b[49m\u001b[43mclose_fds\u001b[49m\u001b[43m,\u001b[49m\n\u001b[0;32m    972\u001b[0m \u001b[43m                        \u001b[49m\u001b[43mpass_fds\u001b[49m\u001b[43m,\u001b[49m\u001b[43m \u001b[49m\u001b[43mcwd\u001b[49m\u001b[43m,\u001b[49m\u001b[43m \u001b[49m\u001b[43menv\u001b[49m\u001b[43m,\u001b[49m\n\u001b[0;32m    973\u001b[0m \u001b[43m                        \u001b[49m\u001b[43mstartupinfo\u001b[49m\u001b[43m,\u001b[49m\u001b[43m \u001b[49m\u001b[43mcreationflags\u001b[49m\u001b[43m,\u001b[49m\u001b[43m \u001b[49m\u001b[43mshell\u001b[49m\u001b[43m,\u001b[49m\n\u001b[0;32m    974\u001b[0m \u001b[43m                        \u001b[49m\u001b[43mp2cread\u001b[49m\u001b[43m,\u001b[49m\u001b[43m \u001b[49m\u001b[43mp2cwrite\u001b[49m\u001b[43m,\u001b[49m\n\u001b[0;32m    975\u001b[0m \u001b[43m                        \u001b[49m\u001b[43mc2pread\u001b[49m\u001b[43m,\u001b[49m\u001b[43m \u001b[49m\u001b[43mc2pwrite\u001b[49m\u001b[43m,\u001b[49m\n\u001b[0;32m    976\u001b[0m \u001b[43m                        \u001b[49m\u001b[43merrread\u001b[49m\u001b[43m,\u001b[49m\u001b[43m \u001b[49m\u001b[43merrwrite\u001b[49m\u001b[43m,\u001b[49m\n\u001b[0;32m    977\u001b[0m \u001b[43m                        \u001b[49m\u001b[43mrestore_signals\u001b[49m\u001b[43m,\u001b[49m\n\u001b[0;32m    978\u001b[0m \u001b[43m                        \u001b[49m\u001b[43mgid\u001b[49m\u001b[43m,\u001b[49m\u001b[43m \u001b[49m\u001b[43mgids\u001b[49m\u001b[43m,\u001b[49m\u001b[43m \u001b[49m\u001b[43muid\u001b[49m\u001b[43m,\u001b[49m\u001b[43m \u001b[49m\u001b[43mumask\u001b[49m\u001b[43m,\u001b[49m\n\u001b[0;32m    979\u001b[0m \u001b[43m                        \u001b[49m\u001b[43mstart_new_session\u001b[49m\u001b[43m)\u001b[49m\n\u001b[0;32m    980\u001b[0m \u001b[38;5;28;01mexcept\u001b[39;00m:\n\u001b[0;32m    981\u001b[0m     \u001b[38;5;66;03m# Cleanup if the child failed starting.\u001b[39;00m\n",
      "File \u001b[1;32m~\\anaconda3\\envs\\py310\\lib\\subprocess.py:1456\u001b[0m, in \u001b[0;36mPopen._execute_child\u001b[1;34m(self, args, executable, preexec_fn, close_fds, pass_fds, cwd, env, startupinfo, creationflags, shell, p2cread, p2cwrite, c2pread, c2pwrite, errread, errwrite, unused_restore_signals, unused_gid, unused_gids, unused_uid, unused_umask, unused_start_new_session)\u001b[0m\n\u001b[0;32m   1455\u001b[0m \u001b[38;5;28;01mtry\u001b[39;00m:\n\u001b[1;32m-> 1456\u001b[0m     hp, ht, pid, tid \u001b[38;5;241m=\u001b[39m \u001b[43m_winapi\u001b[49m\u001b[38;5;241;43m.\u001b[39;49m\u001b[43mCreateProcess\u001b[49m\u001b[43m(\u001b[49m\u001b[43mexecutable\u001b[49m\u001b[43m,\u001b[49m\u001b[43m \u001b[49m\u001b[43margs\u001b[49m\u001b[43m,\u001b[49m\n\u001b[0;32m   1457\u001b[0m \u001b[43m                             \u001b[49m\u001b[38;5;66;43;03m# no special security\u001b[39;49;00m\n\u001b[0;32m   1458\u001b[0m \u001b[43m                             \u001b[49m\u001b[38;5;28;43;01mNone\u001b[39;49;00m\u001b[43m,\u001b[49m\u001b[43m \u001b[49m\u001b[38;5;28;43;01mNone\u001b[39;49;00m\u001b[43m,\u001b[49m\n\u001b[0;32m   1459\u001b[0m \u001b[43m                             \u001b[49m\u001b[38;5;28;43mint\u001b[39;49m\u001b[43m(\u001b[49m\u001b[38;5;129;43;01mnot\u001b[39;49;00m\u001b[43m \u001b[49m\u001b[43mclose_fds\u001b[49m\u001b[43m)\u001b[49m\u001b[43m,\u001b[49m\n\u001b[0;32m   1460\u001b[0m \u001b[43m                             \u001b[49m\u001b[43mcreationflags\u001b[49m\u001b[43m,\u001b[49m\n\u001b[0;32m   1461\u001b[0m \u001b[43m                             \u001b[49m\u001b[43menv\u001b[49m\u001b[43m,\u001b[49m\n\u001b[0;32m   1462\u001b[0m \u001b[43m                             \u001b[49m\u001b[43mcwd\u001b[49m\u001b[43m,\u001b[49m\n\u001b[0;32m   1463\u001b[0m \u001b[43m                             \u001b[49m\u001b[43mstartupinfo\u001b[49m\u001b[43m)\u001b[49m\n\u001b[0;32m   1464\u001b[0m \u001b[38;5;28;01mfinally\u001b[39;00m:\n\u001b[0;32m   1465\u001b[0m     \u001b[38;5;66;03m# Child is launched. Close the parent's copy of those pipe\u001b[39;00m\n\u001b[0;32m   1466\u001b[0m     \u001b[38;5;66;03m# handles that only the child should have open.  You need\u001b[39;00m\n\u001b[1;32m   (...)\u001b[0m\n\u001b[0;32m   1469\u001b[0m     \u001b[38;5;66;03m# pipe will not close when the child process exits and the\u001b[39;00m\n\u001b[0;32m   1470\u001b[0m     \u001b[38;5;66;03m# ReadFile will hang.\u001b[39;00m\n",
      "\u001b[1;31mFileNotFoundError\u001b[0m: [WinError 2] The system cannot find the file specified",
      "\nDuring handling of the above exception, another exception occurred:\n",
      "\u001b[1;31mFileNotFoundError\u001b[0m                         Traceback (most recent call last)",
      "File \u001b[1;32m~\\anaconda3\\envs\\py310\\lib\\site-packages\\keras\\utils\\vis_utils.py:57\u001b[0m, in \u001b[0;36mcheck_graphviz\u001b[1;34m()\u001b[0m\n\u001b[0;32m     54\u001b[0m \u001b[38;5;28;01mtry\u001b[39;00m:\n\u001b[0;32m     55\u001b[0m     \u001b[38;5;66;03m# Attempt to create an image of a blank graph\u001b[39;00m\n\u001b[0;32m     56\u001b[0m     \u001b[38;5;66;03m# to check the pydot/graphviz installation.\u001b[39;00m\n\u001b[1;32m---> 57\u001b[0m     \u001b[43mpydot\u001b[49m\u001b[38;5;241;43m.\u001b[39;49m\u001b[43mDot\u001b[49m\u001b[38;5;241;43m.\u001b[39;49m\u001b[43mcreate\u001b[49m\u001b[43m(\u001b[49m\u001b[43mpydot\u001b[49m\u001b[38;5;241;43m.\u001b[39;49m\u001b[43mDot\u001b[49m\u001b[43m(\u001b[49m\u001b[43m)\u001b[49m\u001b[43m)\u001b[49m\n\u001b[0;32m     58\u001b[0m     \u001b[38;5;28;01mreturn\u001b[39;00m \u001b[38;5;28;01mTrue\u001b[39;00m\n",
      "File \u001b[1;32m~\\anaconda3\\envs\\py310\\lib\\site-packages\\pydot\\core.py:1762\u001b[0m, in \u001b[0;36mDot.create\u001b[1;34m(self, prog, format, encoding)\u001b[0m\n\u001b[0;32m   1761\u001b[0m     args[\u001b[38;5;241m1\u001b[39m] \u001b[38;5;241m=\u001b[39m \u001b[38;5;124m'\u001b[39m\u001b[38;5;124m\"\u001b[39m\u001b[38;5;132;01m{prog}\u001b[39;00m\u001b[38;5;124m\"\u001b[39m\u001b[38;5;124m not found in path.\u001b[39m\u001b[38;5;124m'\u001b[39m\u001b[38;5;241m.\u001b[39mformat(prog\u001b[38;5;241m=\u001b[39mprog)\n\u001b[1;32m-> 1762\u001b[0m     \u001b[38;5;28;01mraise\u001b[39;00m \u001b[38;5;167;01mOSError\u001b[39;00m(\u001b[38;5;241m*\u001b[39margs)\n\u001b[0;32m   1763\u001b[0m \u001b[38;5;28;01melse\u001b[39;00m:\n",
      "\u001b[1;31mFileNotFoundError\u001b[0m: [WinError 2] \"dot\" not found in path.",
      "\nDuring handling of the above exception, another exception occurred:\n",
      "\u001b[1;31mAttributeError\u001b[0m                            Traceback (most recent call last)",
      "Cell \u001b[1;32mIn[11], line 1\u001b[0m\n\u001b[1;32m----> 1\u001b[0m \u001b[43mtf\u001b[49m\u001b[38;5;241;43m.\u001b[39;49m\u001b[43mkeras\u001b[49m\u001b[38;5;241;43m.\u001b[39;49m\u001b[43mutils\u001b[49m\u001b[38;5;241;43m.\u001b[39;49m\u001b[43mplot_model\u001b[49m\u001b[43m(\u001b[49m\u001b[43mmodel_t\u001b[49m\u001b[43m,\u001b[49m\u001b[43m \u001b[49m\u001b[43mto_file\u001b[49m\u001b[38;5;241;43m=\u001b[39;49m\u001b[38;5;124;43m'\u001b[39;49m\u001b[38;5;124;43mmodel.png\u001b[39;49m\u001b[38;5;124;43m'\u001b[39;49m\u001b[43m,\u001b[49m\u001b[43m \u001b[49m\u001b[43mshow_shapes\u001b[49m\u001b[38;5;241;43m=\u001b[39;49m\u001b[38;5;28;43;01mTrue\u001b[39;49;00m\u001b[43m)\u001b[49m\n",
      "File \u001b[1;32m~\\anaconda3\\envs\\py310\\lib\\site-packages\\keras\\utils\\vis_utils.py:436\u001b[0m, in \u001b[0;36mplot_model\u001b[1;34m(model, to_file, show_shapes, show_dtype, show_layer_names, rankdir, expand_nested, dpi, layer_range, show_layer_activations)\u001b[0m\n\u001b[0;32m    429\u001b[0m \u001b[38;5;28;01mif\u001b[39;00m \u001b[38;5;129;01mnot\u001b[39;00m model\u001b[38;5;241m.\u001b[39mbuilt:\n\u001b[0;32m    430\u001b[0m     \u001b[38;5;28;01mraise\u001b[39;00m \u001b[38;5;167;01mValueError\u001b[39;00m(\n\u001b[0;32m    431\u001b[0m         \u001b[38;5;124m\"\u001b[39m\u001b[38;5;124mThis model has not yet been built. \u001b[39m\u001b[38;5;124m\"\u001b[39m\n\u001b[0;32m    432\u001b[0m         \u001b[38;5;124m\"\u001b[39m\u001b[38;5;124mBuild the model first by calling `build()` or by calling \u001b[39m\u001b[38;5;124m\"\u001b[39m\n\u001b[0;32m    433\u001b[0m         \u001b[38;5;124m\"\u001b[39m\u001b[38;5;124mthe model on a batch of data.\u001b[39m\u001b[38;5;124m\"\u001b[39m\n\u001b[0;32m    434\u001b[0m     )\n\u001b[1;32m--> 436\u001b[0m \u001b[38;5;28;01mif\u001b[39;00m \u001b[38;5;129;01mnot\u001b[39;00m \u001b[43mcheck_graphviz\u001b[49m\u001b[43m(\u001b[49m\u001b[43m)\u001b[49m:\n\u001b[0;32m    437\u001b[0m     message \u001b[38;5;241m=\u001b[39m (\n\u001b[0;32m    438\u001b[0m         \u001b[38;5;124m\"\u001b[39m\u001b[38;5;124mYou must install pydot (`pip install pydot`) \u001b[39m\u001b[38;5;124m\"\u001b[39m\n\u001b[0;32m    439\u001b[0m         \u001b[38;5;124m\"\u001b[39m\u001b[38;5;124mand install graphviz \u001b[39m\u001b[38;5;124m\"\u001b[39m\n\u001b[0;32m    440\u001b[0m         \u001b[38;5;124m\"\u001b[39m\u001b[38;5;124m(see instructions at https://graphviz.gitlab.io/download/) \u001b[39m\u001b[38;5;124m\"\u001b[39m\n\u001b[0;32m    441\u001b[0m         \u001b[38;5;124m\"\u001b[39m\u001b[38;5;124mfor plot_model to work.\u001b[39m\u001b[38;5;124m\"\u001b[39m\n\u001b[0;32m    442\u001b[0m     )\n\u001b[0;32m    443\u001b[0m     \u001b[38;5;28;01mif\u001b[39;00m \u001b[38;5;124m\"\u001b[39m\u001b[38;5;124mIPython.core.magics.namespace\u001b[39m\u001b[38;5;124m\"\u001b[39m \u001b[38;5;129;01min\u001b[39;00m sys\u001b[38;5;241m.\u001b[39mmodules:\n\u001b[0;32m    444\u001b[0m         \u001b[38;5;66;03m# We don't raise an exception here in order to avoid crashing\u001b[39;00m\n\u001b[0;32m    445\u001b[0m         \u001b[38;5;66;03m# notebook tests where graphviz is not available.\u001b[39;00m\n",
      "File \u001b[1;32m~\\anaconda3\\envs\\py310\\lib\\site-packages\\keras\\utils\\vis_utils.py:59\u001b[0m, in \u001b[0;36mcheck_graphviz\u001b[1;34m()\u001b[0m\n\u001b[0;32m     57\u001b[0m     pydot\u001b[38;5;241m.\u001b[39mDot\u001b[38;5;241m.\u001b[39mcreate(pydot\u001b[38;5;241m.\u001b[39mDot())\n\u001b[0;32m     58\u001b[0m     \u001b[38;5;28;01mreturn\u001b[39;00m \u001b[38;5;28;01mTrue\u001b[39;00m\n\u001b[1;32m---> 59\u001b[0m \u001b[38;5;28;01mexcept\u001b[39;00m (\u001b[38;5;167;01mOSError\u001b[39;00m, \u001b[43mpydot\u001b[49m\u001b[38;5;241;43m.\u001b[39;49m\u001b[43mInvocationException\u001b[49m):\n\u001b[0;32m     60\u001b[0m     \u001b[38;5;28;01mreturn\u001b[39;00m \u001b[38;5;28;01mFalse\u001b[39;00m\n",
      "\u001b[1;31mAttributeError\u001b[0m: module 'pydot' has no attribute 'InvocationException'"
     ]
    }
   ],
   "source": [
    "tf.keras.utils.plot_model(model_t, to_file='model.png', show_shapes=True)"
   ]
  },
  {
   "cell_type": "code",
   "execution_count": 8,
   "id": "a4ca8dba-b7cb-4fe0-94df-213347e1bc5e",
   "metadata": {},
   "outputs": [
    {
     "name": "stdout",
     "output_type": "stream",
     "text": [
      "Requirement already satisfied: pydot in c:\\users\\siddhartha devan v\\anaconda3\\envs\\py310\\lib\\site-packages (2.0.0)\n",
      "Requirement already satisfied: pyparsing>=3 in c:\\users\\siddhartha devan v\\anaconda3\\envs\\py310\\lib\\site-packages (from pydot) (3.1.1)\n",
      "Note: you may need to restart the kernel to use updated packages.\n"
     ]
    }
   ],
   "source": [
    "pip uninstall pydot"
   ]
  },
  {
   "cell_type": "code",
   "execution_count": null,
   "id": "18a3253b-5ded-4e9e-bd26-61172e9e0948",
   "metadata": {},
   "outputs": [],
   "source": [
    "pip install graphviz"
   ]
  },
  {
   "cell_type": "code",
   "execution_count": null,
   "id": "ce046e2a-0c2f-462f-92ae-4aa33d1b545f",
   "metadata": {},
   "outputs": [],
   "source": []
  },
  {
   "cell_type": "code",
   "execution_count": null,
   "id": "8bdb5a2c-cb9e-4fa7-b034-52724c5f9f2d",
   "metadata": {},
   "outputs": [],
   "source": []
  },
  {
   "cell_type": "code",
   "execution_count": null,
   "id": "bb2f056e-a5ab-4323-96a9-dde5a3206f5b",
   "metadata": {},
   "outputs": [],
   "source": []
  },
  {
   "cell_type": "code",
   "execution_count": 4,
   "id": "17a3c73f-58cd-4106-87fd-a26775321709",
   "metadata": {},
   "outputs": [
    {
     "name": "stderr",
     "output_type": "stream",
     "text": [
      "WARNING:absl:Found untraced functions such as _jit_compiled_convolution_op, _jit_compiled_convolution_op, _jit_compiled_convolution_op while saving (showing 3 of 3). These functions will not be directly callable after loading.\n"
     ]
    },
    {
     "name": "stdout",
     "output_type": "stream",
     "text": [
      "INFO:tensorflow:Assets written to: final_model_conv_3d_tf\\assets\n"
     ]
    },
    {
     "name": "stderr",
     "output_type": "stream",
     "text": [
      "INFO:tensorflow:Assets written to: final_model_conv_3d_tf\\assets\n"
     ]
    }
   ],
   "source": [
    "model_t.save('final_model_conv_3d_tf', save_format = 'tf')"
   ]
  },
  {
   "cell_type": "code",
   "execution_count": null,
   "id": "19073e7a-6ed5-4c4d-ba77-d481fc2b02c3",
   "metadata": {},
   "outputs": [],
   "source": []
  },
  {
   "cell_type": "code",
   "execution_count": 5,
   "id": "727b0ed8-2041-415b-b225-7d3c65b0faa5",
   "metadata": {},
   "outputs": [],
   "source": [
    "model_t.save('final_model_conv_3d_h5.h5', save_format = 'h5')"
   ]
  }
 ],
 "metadata": {
  "kernelspec": {
   "display_name": "Python 3 (ipykernel)",
   "language": "python",
   "name": "python3"
  },
  "language_info": {
   "codemirror_mode": {
    "name": "ipython",
    "version": 3
   },
   "file_extension": ".py",
   "mimetype": "text/x-python",
   "name": "python",
   "nbconvert_exporter": "python",
   "pygments_lexer": "ipython3",
   "version": "3.10.13"
  }
 },
 "nbformat": 4,
 "nbformat_minor": 5
}
